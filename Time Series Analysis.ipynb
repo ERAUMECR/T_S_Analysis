{
 "cells": [
  {
   "cell_type": "code",
   "execution_count": 6,
   "metadata": {},
   "outputs": [
    {
     "data": {
      "text/html": [
       "<div>\n",
       "<style scoped>\n",
       "    .dataframe tbody tr th:only-of-type {\n",
       "        vertical-align: middle;\n",
       "    }\n",
       "\n",
       "    .dataframe tbody tr th {\n",
       "        vertical-align: top;\n",
       "    }\n",
       "\n",
       "    .dataframe thead th {\n",
       "        text-align: right;\n",
       "    }\n",
       "</style>\n",
       "<table border=\"1\" class=\"dataframe\">\n",
       "  <thead>\n",
       "    <tr style=\"text-align: right;\">\n",
       "      <th></th>\n",
       "      <th>0</th>\n",
       "      <th>1</th>\n",
       "      <th>2</th>\n",
       "      <th>3</th>\n",
       "      <th>4</th>\n",
       "      <th>5</th>\n",
       "      <th>6</th>\n",
       "      <th>7</th>\n",
       "      <th>8</th>\n",
       "      <th>9</th>\n",
       "      <th>...</th>\n",
       "      <th>14</th>\n",
       "      <th>15</th>\n",
       "      <th>16</th>\n",
       "      <th>17</th>\n",
       "      <th>18</th>\n",
       "      <th>19</th>\n",
       "      <th>20</th>\n",
       "      <th>21</th>\n",
       "      <th>22</th>\n",
       "      <th>23</th>\n",
       "    </tr>\n",
       "  </thead>\n",
       "  <tbody>\n",
       "    <tr>\n",
       "      <th>0</th>\n",
       "      <td>682.16</td>\n",
       "      <td>652.31</td>\n",
       "      <td>642.01</td>\n",
       "      <td>619.44</td>\n",
       "      <td>570.57</td>\n",
       "      <td>536.43</td>\n",
       "      <td>518.77</td>\n",
       "      <td>461.05</td>\n",
       "      <td>471.83</td>\n",
       "      <td>575.57</td>\n",
       "      <td>...</td>\n",
       "      <td>627.31</td>\n",
       "      <td>628.12</td>\n",
       "      <td>613.01</td>\n",
       "      <td>631.30</td>\n",
       "      <td>846.82</td>\n",
       "      <td>901.88</td>\n",
       "      <td>901.77</td>\n",
       "      <td>876.25</td>\n",
       "      <td>857.33</td>\n",
       "      <td>712.57</td>\n",
       "    </tr>\n",
       "    <tr>\n",
       "      <th>1</th>\n",
       "      <td>630.94</td>\n",
       "      <td>618.03</td>\n",
       "      <td>614.52</td>\n",
       "      <td>609.30</td>\n",
       "      <td>617.33</td>\n",
       "      <td>636.66</td>\n",
       "      <td>638.44</td>\n",
       "      <td>674.01</td>\n",
       "      <td>909.65</td>\n",
       "      <td>1065.46</td>\n",
       "      <td>...</td>\n",
       "      <td>1368.85</td>\n",
       "      <td>1376.99</td>\n",
       "      <td>1219.04</td>\n",
       "      <td>1275.73</td>\n",
       "      <td>1374.85</td>\n",
       "      <td>1388.05</td>\n",
       "      <td>1397.07</td>\n",
       "      <td>1326.98</td>\n",
       "      <td>1165.31</td>\n",
       "      <td>954.05</td>\n",
       "    </tr>\n",
       "    <tr>\n",
       "      <th>2</th>\n",
       "      <td>647.03</td>\n",
       "      <td>612.76</td>\n",
       "      <td>596.70</td>\n",
       "      <td>598.28</td>\n",
       "      <td>598.18</td>\n",
       "      <td>632.17</td>\n",
       "      <td>665.80</td>\n",
       "      <td>887.13</td>\n",
       "      <td>994.88</td>\n",
       "      <td>1129.31</td>\n",
       "      <td>...</td>\n",
       "      <td>1233.46</td>\n",
       "      <td>1226.30</td>\n",
       "      <td>1250.95</td>\n",
       "      <td>1174.55</td>\n",
       "      <td>1295.54</td>\n",
       "      <td>1355.34</td>\n",
       "      <td>1348.82</td>\n",
       "      <td>1300.63</td>\n",
       "      <td>1083.62</td>\n",
       "      <td>956.77</td>\n",
       "    </tr>\n",
       "    <tr>\n",
       "      <th>3</th>\n",
       "      <td>671.89</td>\n",
       "      <td>632.29</td>\n",
       "      <td>623.19</td>\n",
       "      <td>618.54</td>\n",
       "      <td>628.93</td>\n",
       "      <td>654.90</td>\n",
       "      <td>885.36</td>\n",
       "      <td>1035.01</td>\n",
       "      <td>1232.61</td>\n",
       "      <td>1426.27</td>\n",
       "      <td>...</td>\n",
       "      <td>1445.01</td>\n",
       "      <td>1212.23</td>\n",
       "      <td>1404.04</td>\n",
       "      <td>1413.11</td>\n",
       "      <td>1215.38</td>\n",
       "      <td>1353.83</td>\n",
       "      <td>1359.07</td>\n",
       "      <td>1450.02</td>\n",
       "      <td>1304.34</td>\n",
       "      <td>979.28</td>\n",
       "    </tr>\n",
       "    <tr>\n",
       "      <th>4</th>\n",
       "      <td>701.62</td>\n",
       "      <td>663.65</td>\n",
       "      <td>641.95</td>\n",
       "      <td>636.37</td>\n",
       "      <td>643.34</td>\n",
       "      <td>668.85</td>\n",
       "      <td>735.55</td>\n",
       "      <td>1112.81</td>\n",
       "      <td>1530.65</td>\n",
       "      <td>1692.90</td>\n",
       "      <td>...</td>\n",
       "      <td>1812.77</td>\n",
       "      <td>1806.37</td>\n",
       "      <td>1561.34</td>\n",
       "      <td>1781.05</td>\n",
       "      <td>1813.62</td>\n",
       "      <td>1823.03</td>\n",
       "      <td>1832.20</td>\n",
       "      <td>1832.15</td>\n",
       "      <td>1822.97</td>\n",
       "      <td>1384.81</td>\n",
       "    </tr>\n",
       "  </tbody>\n",
       "</table>\n",
       "<p>5 rows × 24 columns</p>\n",
       "</div>"
      ],
      "text/plain": [
       "       0       1       2       3       4       5       6        7        8   \\\n",
       "0  682.16  652.31  642.01  619.44  570.57  536.43  518.77   461.05   471.83   \n",
       "1  630.94  618.03  614.52  609.30  617.33  636.66  638.44   674.01   909.65   \n",
       "2  647.03  612.76  596.70  598.28  598.18  632.17  665.80   887.13   994.88   \n",
       "3  671.89  632.29  623.19  618.54  628.93  654.90  885.36  1035.01  1232.61   \n",
       "4  701.62  663.65  641.95  636.37  643.34  668.85  735.55  1112.81  1530.65   \n",
       "\n",
       "        9   ...       14       15       16       17       18       19  \\\n",
       "0   575.57  ...   627.31   628.12   613.01   631.30   846.82   901.88   \n",
       "1  1065.46  ...  1368.85  1376.99  1219.04  1275.73  1374.85  1388.05   \n",
       "2  1129.31  ...  1233.46  1226.30  1250.95  1174.55  1295.54  1355.34   \n",
       "3  1426.27  ...  1445.01  1212.23  1404.04  1413.11  1215.38  1353.83   \n",
       "4  1692.90  ...  1812.77  1806.37  1561.34  1781.05  1813.62  1823.03   \n",
       "\n",
       "        20       21       22       23  \n",
       "0   901.77   876.25   857.33   712.57  \n",
       "1  1397.07  1326.98  1165.31   954.05  \n",
       "2  1348.82  1300.63  1083.62   956.77  \n",
       "3  1359.07  1450.02  1304.34   979.28  \n",
       "4  1832.20  1832.15  1822.97  1384.81  \n",
       "\n",
       "[5 rows x 24 columns]"
      ]
     },
     "execution_count": 6,
     "metadata": {},
     "output_type": "execute_result"
    }
   ],
   "source": [
    "import pandas as pd\n",
    "import numpy as np\n",
    "from statsmodels.tsa.stattools import acf\n",
    "from statsmodels.graphics.tsaplots import plot_acf\n",
    "from statsmodels.tsa.stattools import adfuller\n",
    "from matplotlib import pyplot as plt\n",
    "from statsmodels.tsa.arima_process import ArmaProcess\n",
    "from statsmodels.tsa.arima_model import ARMA\n",
    "\n",
    "# HOME C:/Users/ERIC/Desktop/T_S_Analysis/\n",
    "# ORCA C:/Users/Operaciones F/T_S_Analysis/\n",
    "data_mondays = pd.read_excel('C:/Users/ERIC/Desktop/T_S_Analysis/PML 09LBR LUNES HORORIO.xlsx', 2)\n",
    "data = data_mondays.iloc[:,2:26].values\n",
    "data = pd.DataFrame(data)\n",
    "data.head()"
   ]
  },
  {
   "cell_type": "code",
   "execution_count": 7,
   "metadata": {},
   "outputs": [
    {
     "name": "stdout",
     "output_type": "stream",
     "text": [
      "The autocorrelation of daily interest rate changes is -0.24\n"
     ]
    }
   ],
   "source": [
    "daily_diff = data.diff()\n",
    "autocorr = daily_diff[0].autocorr()\n",
    "print(\"The autocorrelation of daily interest rate changes is %4.2f\" %(autocorr)) \n",
    "#With negative autocorrelation it is called mean reverted\n"
   ]
  },
  {
   "cell_type": "code",
   "execution_count": 15,
   "metadata": {},
   "outputs": [
    {
     "name": "stdout",
     "output_type": "stream",
     "text": [
      "[ 1.          0.63393571  0.43487996  0.40669061  0.37643437  0.36868624\n",
      "  0.23526329  0.05366823  0.15515276  0.13304669  0.03621735  0.04524682\n",
      " -0.0654064  -0.06212413 -0.08583349 -0.17030673 -0.22885979 -0.31517207\n",
      " -0.34836214 -0.27439593 -0.28084806 -0.25922349 -0.21247194 -0.22763554\n",
      " -0.25901158 -0.28593344 -0.26664368 -0.17995577 -0.20218392 -0.19588868\n",
      " -0.16117842 -0.12080062 -0.07629473 -0.01798683  0.03886976  0.0888142\n",
      "  0.10336639  0.0823239   0.07288792  0.05250181  0.0468102 ]\n"
     ]
    }
   ],
   "source": [
    "#95% confidence = +- 2/(N)^{2}\n",
    "acf_array = acf(data[0])\n",
    "print(acf_array)\n"
   ]
  },
  {
   "cell_type": "code",
   "execution_count": 137,
   "metadata": {},
   "outputs": [
    {
     "data": {
      "image/png": "[encoded data removed]",
      "text/plain": [
       "<Figure size 432x288 with 1 Axes>"
      ]
     },
     "metadata": {
      "needs_background": "light"
     },
     "output_type": "display_data"
    },
    {
     "data": {
      "image/png": "[encoded data removed]",
      "text/plain": [
       "<Figure size 432x288 with 1 Axes>"
      ]
     },
     "metadata": {
      "needs_background": "light"
     },
     "output_type": "display_data"
    },
    {
     "name": "stdout",
     "output_type": "stream",
     "text": [
      "The approximate confidence interval is +/- 0.04\n"
     ]
    }
   ],
   "source": [
    "plot_acf(data[0])\n",
    "plt.show()\n",
    "\n",
    "daily_diff = daily_diff.dropna()\n",
    "plot_acf(daily_diff[0])\n",
    "plt.show()\n",
    "\n",
    "#confidence interval\n",
    "#95% confidence = +- 1.96/(N)^{2}\n",
    "conf = 1.96/len(data[0])\n",
    "print(\"The approximate confidence interval is +/- %4.2f\" %(conf))"
   ]
  },
  {
   "cell_type": "code",
   "execution_count": 138,
   "metadata": {},
   "outputs": [
    {
     "name": "stdout",
     "output_type": "stream",
     "text": [
      "The mean is 1281.581 and the standard deviation is 566.223\n"
     ]
    }
   ],
   "source": [
    "#White noise is a series with : constant mean and variance; zero autocorrelation at all lags\n",
    "\n",
    "mean = np.mean(data[0])\n",
    "std = np.std(data[0])\n",
    "print(\"The mean is %5.3f and the standard deviation is %5.3f\" %(mean,std))\n"
   ]
  },
  {
   "cell_type": "code",
   "execution_count": 139,
   "metadata": {},
   "outputs": [
    {
     "name": "stdout",
     "output_type": "stream",
     "text": [
      "(-3.40217851776457, 0.010884829897948874, 0, 52, {'1%': -3.562878534649522, '5%': -2.918973284023669, '10%': -2.597393446745562}, 625.6935188893718)\n",
      "The p-value of the test on prices is: 0.010884829897948874\n"
     ]
    }
   ],
   "source": [
    "# Run the ADF test on the price series and print out the results\n",
    "# if p<0.05 we can reject the hypothesis that series is a random walk\n",
    "results = adfuller(data[0])\n",
    "print(results)\n",
    "\n",
    "# Just print out the p-value\n",
    "print('The p-value of the test on prices is: ' + str(results[1]))"
   ]
  },
  {
   "cell_type": "code",
   "execution_count": 140,
   "metadata": {},
   "outputs": [],
   "source": [
    "\n",
    "data_ret = data[0].pct_change()\n"
   ]
  },
  {
   "cell_type": "code",
   "execution_count": 141,
   "metadata": {},
   "outputs": [
    {
     "name": "stdout",
     "output_type": "stream",
     "text": [
      "The p-value of the test on returns is: 7.061204695415799e-17\n"
     ]
    }
   ],
   "source": [
    "data_ret = data[0].pct_change()\n",
    "data_ret = data_ret.dropna()\n",
    "results = adfuller(data_ret)\n",
    "print('The p-value of the test on returns is: ' + str(results[1]))"
   ]
  },
  {
   "cell_type": "code",
   "execution_count": 142,
   "metadata": {},
   "outputs": [
    {
     "name": "stdout",
     "output_type": "stream",
     "text": [
      "                              ARMA Model Results                              \n",
      "==============================================================================\n",
      "Dep. Variable:                      y   No. Observations:                   53\n",
      "Model:                     ARMA(1, 0)   Log Likelihood                -397.398\n",
      "Method:                       css-mle   S.D. of innovations            434.514\n",
      "Date:                Tue, 10 Mar 2020   AIC                            800.795\n",
      "Time:                        12:42:58   BIC                            806.706\n",
      "Sample:                             0   HQIC                           803.068\n",
      "                                                                              \n",
      "==============================================================================\n",
      "                 coef    std err          z      P>|z|      [0.025      0.975]\n",
      "------------------------------------------------------------------------------\n",
      "const       1258.6992    159.337      7.900      0.000     946.405    1570.994\n",
      "ar.L1.y        0.6365      0.104      6.102      0.000       0.432       0.841\n",
      "                                    Roots                                    \n",
      "=============================================================================\n",
      "                  Real          Imaginary           Modulus         Frequency\n",
      "-----------------------------------------------------------------------------\n",
      "AR.1            1.5710           +0.0000j            1.5710            0.0000\n",
      "-----------------------------------------------------------------------------\n"
     ]
    }
   ],
   "source": [
    "#Stationarity is strong when the entire distribution of data is time time-invariant\n",
    "# and it is weak when mean, variance, and autocorrelation are time-invariant (i.e seasonal series, random walk)\n",
    "#white noise  could be a nonstationarity serie id the mean is increasing as the time goes by\n",
    "\n",
    "mod = ARMA(data[0], order = (1,0))\n",
    "res = mod.fit()\n",
    "print(res.summary())\n",
    "#print(\"Phi:\", res.params)\n"
   ]
  },
  {
   "cell_type": "code",
   "execution_count": 143,
   "metadata": {},
   "outputs": [
    {
     "data": {
      "image/png": "[encoded data removed]",
      "text/plain": [
       "<Figure size 432x288 with 1 Axes>"
      ]
     },
     "metadata": {
      "needs_background": "light"
     },
     "output_type": "display_data"
    }
   ],
   "source": [
    "res.plot_predict(start=42, end=62)\n",
    "plt.show()"
   ]
  },
  {
   "cell_type": "code",
   "execution_count": 144,
   "metadata": {},
   "outputs": [
    {
     "data": {
      "image/png": "[encoded data removed]",
      "text/plain": [
       "<Figure size 432x288 with 1 Axes>"
      ]
     },
     "metadata": {
      "needs_background": "light"
     },
     "output_type": "display_data"
    }
   ],
   "source": [
    "#The partial ACF measures the incremental benefit of addign another lag\n",
    "#Two common adjusted goodness-of-fit measures are called \n",
    "#AIC Akaike Information Criteria\n",
    "#Bayesian Information Criteria\n",
    "# Fit the data to an AR(p) for p = 0,...,6 , and save the BIC\n",
    "BIC = np.zeros(15)\n",
    "for p in range(15):\n",
    "    mod = ARMA(data[0], order=(p,0))\n",
    "    res = mod.fit()\n",
    "# Save BIC for AR(p)    \n",
    "    BIC[p] = res.bic\n",
    "    \n",
    "# Plot the BIC as a function of p\n",
    "plt.plot(range(1,15), BIC[1:15], marker='o')\n",
    "plt.xlabel('Order of AR Model')\n",
    "plt.ylabel('Bayesian Information Criterion')\n",
    "plt.show()"
   ]
  },
  {
   "cell_type": "code",
   "execution_count": 145,
   "metadata": {},
   "outputs": [
    {
     "data": {
      "image/png": "[encoded data removed]",
      "text/plain": [
       "<Figure size 432x288 with 1 Axes>"
      ]
     },
     "metadata": {
      "needs_background": "light"
     },
     "output_type": "display_data"
    }
   ],
   "source": [
    "plot_pacf(data[0], lags=20)\n",
    "plt.show()"
   ]
  },
  {
   "cell_type": "code",
   "execution_count": 146,
   "metadata": {},
   "outputs": [
    {
     "name": "stdout",
     "output_type": "stream",
     "text": [
      "                              ARMA Model Results                              \n",
      "==============================================================================\n",
      "Dep. Variable:                      y   No. Observations:                   53\n",
      "Model:                     ARMA(0, 1)   Log Likelihood                -401.036\n",
      "Method:                       css-mle   S.D. of innovations            466.124\n",
      "Date:                Tue, 10 Mar 2020   AIC                            808.073\n",
      "Time:                        12:43:30   BIC                            813.984\n",
      "Sample:                             0   HQIC                           810.346\n",
      "                                                                              \n",
      "==============================================================================\n",
      "                 coef    std err          z      P>|z|      [0.025      0.975]\n",
      "------------------------------------------------------------------------------\n",
      "const       1277.9273     98.317     12.998      0.000    1085.230    1470.625\n",
      "ma.L1.y        0.5457      0.096      5.683      0.000       0.358       0.734\n",
      "                                    Roots                                    \n",
      "=============================================================================\n",
      "                  Real          Imaginary           Modulus         Frequency\n",
      "-----------------------------------------------------------------------------\n",
      "MA.1           -1.8323           +0.0000j            1.8323            0.5000\n",
      "-----------------------------------------------------------------------------\n"
     ]
    }
   ],
   "source": [
    "# MA MODEL\n",
    "#NEGATIVE theta = one-period mean reversion\n",
    "#POSITIVE theta = one-perior momentum\n",
    "# ONE-PERIOD AUTOCORRELATION IS THETA/ (1 + (THEHA)^{2})\n",
    "#THETA DOES NOT NEED TO CHANGE ITS SIGN \n",
    "#ESTIMATING AN MA MODEL\n",
    "\n",
    "mod = ARMA(data[0], order = (0,1))\n",
    "res = mod.fit()\n",
    "print(res.summary())\n",
    "#print(\"Phi:\", res.params)\n"
   ]
  },
  {
   "cell_type": "code",
   "execution_count": 149,
   "metadata": {},
   "outputs": [
    {
     "data": {
      "image/png": "[encoded data removed]",
      "text/plain": [
       "<Figure size 432x288 with 1 Axes>"
      ]
     },
     "metadata": {
      "needs_background": "light"
     },
     "output_type": "display_data"
    },
    {
     "data": {
      "text/plain": [
       "42    1561.253563\n",
       "43    1114.075571\n",
       "44    1210.862772\n",
       "45    1299.526418\n",
       "46    1216.816414\n",
       "47    1196.012526\n",
       "48    1277.833094\n",
       "49    1302.811642\n",
       "50    1140.621772\n",
       "51    1162.577118\n",
       "52    1138.877850\n",
       "53    1280.973694\n",
       "54    1277.927250\n",
       "dtype: float64"
      ]
     },
     "execution_count": 149,
     "metadata": {},
     "output_type": "execute_result"
    }
   ],
   "source": [
    "res.plot_predict(start=42, end=54)\n",
    "plt.show()\n",
    "res.predict(start=42, end=54)"
   ]
  },
  {
   "cell_type": "code",
   "execution_count": 101,
   "metadata": {},
   "outputs": [
    {
     "name": "stdout",
     "output_type": "stream",
     "text": [
      "\n",
      "AIC ARMA(1,1):  802.0207663883442 \n",
      "AIC ARMA(1,0):  800.7951635858532 \n",
      "AIC ARMA(1,1)  802.5353282471061\n"
     ]
    }
   ],
   "source": [
    "#ESTIMATING AN ARMA MODEL\n",
    "\n",
    "mod_ar11 = ARMA(data[0], order = (1,1))\n",
    "res11 = mod_ar11.fit()\n",
    "mod_ar1 = ARMA(data[0], order = (1,0))\n",
    "res1 =mod_ar1.fit()\n",
    "mod_ar2 = ARMA(data[0], order = (2,0))\n",
    "res2 = mod_ar2.fit()\n",
    "print(\"\\nAIC ARMA(1,1): \",res11.aic , \"\\nAIC ARMA(1,0): \",res1.aic , \"\\nAIC ARMA(2,0) \", res2.aic )\n",
    "\n",
    "\n"
   ]
  }
 ],
 "metadata": {
  "kernelspec": {
   "display_name": "Python 3.7 (tensorflow)",
   "language": "python",
   "name": "tensorflow"
  },
  "language_info": {
   "codemirror_mode": {
    "name": "ipython",
    "version": 3
   },
   "file_extension": ".py",
   "mimetype": "text/x-python",
   "name": "python",
   "nbconvert_exporter": "python",
   "pygments_lexer": "ipython3",
   "version": "3.7.6"
  }
 },
 "nbformat": 4,
 "nbformat_minor": 4
}
